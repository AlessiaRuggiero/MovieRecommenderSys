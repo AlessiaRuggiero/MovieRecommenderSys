{
 "cells": [
  {
   "cell_type": "markdown",
   "id": "0d709756",
   "metadata": {},
   "source": [
    "# Movie Recommender System\n",
    "#### TASK: Given a movie, the movie recommender system is tasked with performing content-based filtering to recommend 10 movies with common features to the given movie."
   ]
  },
  {
   "cell_type": "markdown",
   "id": "9c5c3de0",
   "metadata": {},
   "source": [
    "## Import Modules\n",
    "#### pandas: Python sublibrary used to facilitate data analysis and machine learning tasks\n",
    "#### numpy: Python sublibrary that provides support for work with large, multi-dimensional arrays and matrices\n",
    "#### sklearn: Python sublibrary that provides tools for statistical modeling and machine learning tasks"
   ]
  },
  {
   "cell_type": "code",
   "execution_count": 83,
   "id": "3b614ac7",
   "metadata": {},
   "outputs": [],
   "source": [
    "import pandas as pd\n",
    "import numpy as np\n",
    "from sklearn.feature_extraction.text import TfidfVectorizer\n",
    "from sklearn.metrics.pairwise import cosine_similarity, linear_kernel"
   ]
  },
  {
   "cell_type": "markdown",
   "id": "632e8e5c",
   "metadata": {},
   "source": [
    "## Read in Data\n",
    "#### Data set used: MovieLens 20M Dataset from Kaggle"
   ]
  },
  {
   "cell_type": "code",
   "execution_count": 84,
   "id": "59c1b8ea",
   "metadata": {},
   "outputs": [
    {
     "name": "stdout",
     "output_type": "stream",
     "text": [
      "   movieId                               title  \\\n",
      "0        1                    Toy Story (1995)   \n",
      "1        2                      Jumanji (1995)   \n",
      "2        3             Grumpier Old Men (1995)   \n",
      "3        4            Waiting to Exhale (1995)   \n",
      "4        5  Father of the Bride Part II (1995)   \n",
      "\n",
      "                                        genres  \n",
      "0  Adventure|Animation|Children|Comedy|Fantasy  \n",
      "1                   Adventure|Children|Fantasy  \n",
      "2                               Comedy|Romance  \n",
      "3                         Comedy|Drama|Romance  \n",
      "4                                       Comedy  \n"
     ]
    }
   ],
   "source": [
    "movies = pd.read_csv('/Users/alessia/Desktop/Jupyter/MovieRec/movie.csv')\n",
    "\n",
    "print(movies.head())"
   ]
  },
  {
   "cell_type": "code",
   "execution_count": 85,
   "id": "4eef994a",
   "metadata": {},
   "outputs": [
    {
     "name": "stdout",
     "output_type": "stream",
     "text": [
      "   userId  movieId            tag            timestamp\n",
      "0      18     4141    Mark Waters  2009-04-24 18:19:40\n",
      "1      65      208      dark hero  2013-05-10 01:41:18\n",
      "2      65      353      dark hero  2013-05-10 01:41:19\n",
      "3      65      521  noir thriller  2013-05-10 01:39:43\n",
      "4      65      592      dark hero  2013-05-10 01:41:18\n"
     ]
    }
   ],
   "source": [
    "tags = pd.read_csv('/Users/alessia/Desktop/Jupyter/MovieRec/tag.csv')\n",
    "\n",
    "print(tags.head())"
   ]
  },
  {
   "cell_type": "markdown",
   "id": "26f3d98a",
   "metadata": {},
   "source": [
    "## Analyze Data"
   ]
  },
  {
   "cell_type": "code",
   "execution_count": 86,
   "id": "e9edd7bc",
   "metadata": {},
   "outputs": [
    {
     "name": "stdout",
     "output_type": "stream",
     "text": [
      "<class 'pandas.core.frame.DataFrame'>\n",
      "RangeIndex: 27278 entries, 0 to 27277\n",
      "Data columns (total 3 columns):\n",
      " #   Column   Non-Null Count  Dtype \n",
      "---  ------   --------------  ----- \n",
      " 0   movieId  27278 non-null  int64 \n",
      " 1   title    27278 non-null  object\n",
      " 2   genres   27278 non-null  object\n",
      "dtypes: int64(1), object(2)\n",
      "memory usage: 639.5+ KB\n",
      "\n",
      "\n",
      "\n",
      "<class 'pandas.core.frame.DataFrame'>\n",
      "RangeIndex: 465564 entries, 0 to 465563\n",
      "Data columns (total 4 columns):\n",
      " #   Column     Non-Null Count   Dtype \n",
      "---  ------     --------------   ----- \n",
      " 0   userId     465564 non-null  int64 \n",
      " 1   movieId    465564 non-null  int64 \n",
      " 2   tag        465548 non-null  object\n",
      " 3   timestamp  465564 non-null  object\n",
      "dtypes: int64(2), object(2)\n",
      "memory usage: 14.2+ MB\n"
     ]
    }
   ],
   "source": [
    "movies.info()\n",
    "print('\\n\\n')\n",
    "tags.info()"
   ]
  },
  {
   "cell_type": "markdown",
   "id": "7d50aef1",
   "metadata": {},
   "source": [
    "## Clean Data"
   ]
  },
  {
   "cell_type": "code",
   "execution_count": 87,
   "id": "41172287",
   "metadata": {},
   "outputs": [
    {
     "name": "stdout",
     "output_type": "stream",
     "text": [
      "   movieId            tag\n",
      "0     4141    Mark Waters\n",
      "1      208      dark hero\n",
      "2      353      dark hero\n",
      "3      521  noir thriller\n",
      "4      592      dark hero\n"
     ]
    }
   ],
   "source": [
    "# Drop unnecessary labels\n",
    "tags = tags.drop(['userId', 'timestamp'], axis=1)\n",
    "\n",
    "print(tags.head())"
   ]
  },
  {
   "cell_type": "code",
   "execution_count": 88,
   "id": "92c93ecc",
   "metadata": {},
   "outputs": [
    {
     "name": "stdout",
     "output_type": "stream",
     "text": [
      "   movieId                               title  \\\n",
      "0        1                    toy story (1995)   \n",
      "1        2                      jumanji (1995)   \n",
      "2        3             grumpier old men (1995)   \n",
      "3        4            waiting to exhale (1995)   \n",
      "4        5  father of the bride part ii (1995)   \n",
      "\n",
      "                                        genres  \n",
      "0  Adventure Animation Children Comedy Fantasy  \n",
      "1                   Adventure Children Fantasy  \n",
      "2                               Comedy Romance  \n",
      "3                         Comedy Drama Romance  \n",
      "4                                       Comedy  \n"
     ]
    }
   ],
   "source": [
    "# Separate genre terms for metadata merge\n",
    "movies['genres'] = movies['genres'].str.replace('|',' ', regex=False)\n",
    "\n",
    "# Convert titles to lowercase for case-insensitive searching\n",
    "movies['title'] = movies['title'].str.lower()\n",
    "\n",
    "print(movies.head())"
   ]
  },
  {
   "cell_type": "markdown",
   "id": "83b2264d",
   "metadata": {},
   "source": [
    "## Merge movies and tags DataFrames"
   ]
  },
  {
   "cell_type": "code",
   "execution_count": 89,
   "id": "b3fff301",
   "metadata": {},
   "outputs": [
    {
     "name": "stdout",
     "output_type": "stream",
     "text": [
      "   movieId             title                                       genres  \\\n",
      "0        1  toy story (1995)  Adventure Animation Children Comedy Fantasy   \n",
      "1        1  toy story (1995)  Adventure Animation Children Comedy Fantasy   \n",
      "2        1  toy story (1995)  Adventure Animation Children Comedy Fantasy   \n",
      "3        1  toy story (1995)  Adventure Animation Children Comedy Fantasy   \n",
      "4        1  toy story (1995)  Adventure Animation Children Comedy Fantasy   \n",
      "\n",
      "                                      tag  \n",
      "0                                 Watched  \n",
      "1                      computer animation  \n",
      "2                 Disney animated feature  \n",
      "3                         Pixar animation  \n",
      "4  TÃ©a Leoni does not star in this movie  \n"
     ]
    }
   ],
   "source": [
    "movies_tags = pd.merge(left=movies, right=tags, on='movieId', how='left')\n",
    "\n",
    "print(movies_tags.head())"
   ]
  },
  {
   "cell_type": "markdown",
   "id": "f1c074a8",
   "metadata": {},
   "source": [
    "## Create Metadata"
   ]
  },
  {
   "cell_type": "code",
   "execution_count": 90,
   "id": "8f4c3a6c",
   "metadata": {},
   "outputs": [
    {
     "name": "stdout",
     "output_type": "stream",
     "text": [
      "                                                       tag\n",
      "movieId                                                   \n",
      "1        watched computer animation disney animated fea...\n",
      "2        time travel adapted from:book board game child...\n",
      "3        old people that is actually funny sequel fever...\n",
      "4        chick flick revenge characters chick flick cha...\n",
      "5        diane keaton family sequel steve martin weddin...\n"
     ]
    }
   ],
   "source": [
    "# Control for empty cells\n",
    "movies_tags.fillna('', inplace=True)\n",
    "\n",
    "# Unite together tags relating to the same movie(Id)\n",
    "movies_tags = pd.DataFrame(movies_tags.groupby('movieId')['tag'].apply(lambda x: \"%s\" % ' '.join(x.str.lower())))\n",
    "\n",
    "print(movies_tags.head())"
   ]
  },
  {
   "cell_type": "code",
   "execution_count": 91,
   "id": "d42e3268",
   "metadata": {},
   "outputs": [
    {
     "name": "stdout",
     "output_type": "stream",
     "text": [
      "   movieId                               title  \\\n",
      "0        1                    toy story (1995)   \n",
      "1        2                      jumanji (1995)   \n",
      "2        3             grumpier old men (1995)   \n",
      "3        4            waiting to exhale (1995)   \n",
      "4        5  father of the bride part ii (1995)   \n",
      "\n",
      "                                        genres  \\\n",
      "0  Adventure Animation Children Comedy Fantasy   \n",
      "1                   Adventure Children Fantasy   \n",
      "2                               Comedy Romance   \n",
      "3                         Comedy Drama Romance   \n",
      "4                                       Comedy   \n",
      "\n",
      "                                                 tag  \\\n",
      "0  watched computer animation disney animated fea...   \n",
      "1  time travel adapted from:book board game child...   \n",
      "2  old people that is actually funny sequel fever...   \n",
      "3  chick flick revenge characters chick flick cha...   \n",
      "4  diane keaton family sequel steve martin weddin...   \n",
      "\n",
      "                                            metadata  \n",
      "0  Adventure Animation Children Comedy Fantasy wa...  \n",
      "1  Adventure Children Fantasy time travel adapted...  \n",
      "2  Comedy Romance old people that is actually fun...  \n",
      "3  Comedy Drama Romance chick flick revenge chara...  \n",
      "4  Comedy diane keaton family sequel steve martin...  \n"
     ]
    }
   ],
   "source": [
    "# Remerge data\n",
    "content = pd.merge(movies, movies_tags, on='movieId', how='left')\n",
    "\n",
    "# Create metadata by merging 'genres' and 'tag' columns\n",
    "content['metadata'] = content[['genres', 'tag']].apply(lambda x: ' '.join(x), axis=1)\n",
    "\n",
    "print(content.head())"
   ]
  },
  {
   "cell_type": "code",
   "execution_count": 92,
   "id": "f81c3b50",
   "metadata": {},
   "outputs": [
    {
     "data": {
      "text/plain": [
       "'Adventure Children Fantasy time travel adapted from:book board game childhood recaptured game herds of cgi animals scary see also:zathura time time travel board game fantasy robin williams scary time travel robin williams joe johnston robin williams kid flick jungle robin williams board game robin williams animals lebbat robin williams time travel adventure robin williams children fantasy robin williams dynamic cgi action kirsten dunst robin williams robin williams fantasy kid flick animals animals fantasy for children fantasy adapted from:book childish children kid flick time travel joe johnston fantasy robin williams time travel animals board game children fantasy kirsten dunst robin williams time travel board game time travel children kid flick filmed in bc fantasy robin williams animals bad cgi based on a book board game chris van allsburg robin williams robin williams game magic board game monkey adapted from:book animals bad cgi based on a book board game childhood recaptured children chris van allsburg fantasy filmed in bc jungle kid flick kirsten dunst monkey robin williams saturn award (best special effects) saturn award (best supporting actress) scary time time travel animals based on a book magic board game monkey robin williams time travel animals childhood recaptured herds of cgi animals kirsten dunst robin williams fantasy robin williams scary time travel clv bad cgi horrifying (but not horror genre) kirsten dunst magic board game monkey not for kids fantasy animals fantasy robin williams scary'"
      ]
     },
     "execution_count": 92,
     "metadata": {},
     "output_type": "execute_result"
    }
   ],
   "source": [
    "# Example metadata for Jumanji (1995)\n",
    "content.loc[1, 'metadata']"
   ]
  },
  {
   "cell_type": "markdown",
   "id": "fc644b8c",
   "metadata": {},
   "source": [
    "## Perform Textual Analysis (TF-IDF)\n",
    "\n",
    "#### TfidfVectorizer().fit_transform() converts a collection of raw documents to a matrix of TF-IDF features. It learns the terms in the passed document set, calculates their idf scores and returns a TF-IDF-weighted document-term matrix."
   ]
  },
  {
   "cell_type": "code",
   "execution_count": 93,
   "id": "0d433bcb",
   "metadata": {},
   "outputs": [
    {
     "name": "stdout",
     "output_type": "stream",
     "text": [
      "Matrix Dimensions: (27278, 23865) \n",
      "\n",
      "  (0, 22599)\t0.006491097793447923\n",
      "  (0, 21969)\t0.012070103775451308\n",
      "  (0, 17608)\t0.007104700136518033\n",
      "  (0, 14772)\t0.0070038886011277\n",
      "  (0, 5909)\t0.010557745307297191\n",
      "  (0, 10419)\t0.010435301471900858\n",
      "  (0, 6259)\t0.005216887398726472\n",
      "  (0, 6789)\t0.005917107839440688\n",
      "  (0, 6257)\t0.004698003318667564\n",
      "  (0, 4134)\t0.005298861381222637\n",
      "  (0, 22622)\t0.010474302070069847\n",
      "  (0, 1945)\t0.004251248805804899\n",
      "  (0, 23023)\t0.009235005693364823\n",
      "  (0, 6715)\t0.008683880226854514\n",
      "  (0, 11493)\t0.008277485486808423\n",
      "  (0, 14453)\t0.00611745706504942\n",
      "  (0, 210)\t0.009167963287355628\n",
      "  (0, 20323)\t0.008123753945951235\n",
      "  (0, 17644)\t0.010927326986799627\n",
      "  (0, 134)\t0.009083691251822493\n",
      "  (0, 6668)\t0.010927326986799627\n",
      "  (0, 403)\t0.005671661487227229\n",
      "  (0, 22775)\t0.009635545205966082\n",
      "  (0, 20425)\t0.0054236646073774\n",
      "  (0, 4951)\t0.007800893339116515\n",
      "  :\t:\n",
      "  (27268, 18147)\t0.7955752044012239\n",
      "  (27268, 4270)\t0.6058548457691421\n",
      "  (27269, 4270)\t0.4539164888497601\n",
      "  (27269, 1003)\t0.891044230748567\n",
      "  (27270, 7196)\t0.4770504318319236\n",
      "  (27270, 4270)\t0.2657281586132783\n",
      "  (27270, 3802)\t0.5008697486731964\n",
      "  (27270, 1003)\t0.52162798333191\n",
      "  (27270, 485)\t0.4229009021958988\n",
      "  (27271, 4270)\t1.0\n",
      "  (27272, 9842)\t0.8386929271566328\n",
      "  (27272, 4270)\t0.544604603301734\n",
      "  (27273, 4270)\t1.0\n",
      "  (27274, 4270)\t1.0\n",
      "  (27275, 1757)\t0.5201090853233946\n",
      "  (27275, 11712)\t0.397263702415277\n",
      "  (27275, 14595)\t0.4858422323553633\n",
      "  (27275, 23097)\t0.41148573137928457\n",
      "  (27275, 16388)\t0.37078949148059676\n",
      "  (27275, 485)\t0.16976472320874245\n",
      "  (27276, 12521)\t0.7071067811865476\n",
      "  (27276, 8292)\t0.7071067811865476\n",
      "  (27277, 9842)\t0.5401902714423478\n",
      "  (27277, 7196)\t0.6297262557577399\n",
      "  (27277, 485)\t0.5582466421290687\n"
     ]
    }
   ],
   "source": [
    "TFIDF_matrix = TfidfVectorizer(stop_words='english').fit_transform(content['metadata'])\n",
    "\n",
    "print(\"Matrix Dimensions:\", TFIDF_matrix.shape, '\\n')\n",
    "print(TFIDF_matrix)"
   ]
  },
  {
   "cell_type": "code",
   "execution_count": 94,
   "id": "f91c206b",
   "metadata": {},
   "outputs": [],
   "source": [
    "#for term, idf in zip(TFIDF_matrix.get_feature_names(), TFIDF.idf_):\n",
    "#    print(term, ':', idf)"
   ]
  },
  {
   "cell_type": "markdown",
   "id": "54aa9eb3",
   "metadata": {},
   "source": [
    "## Calculate Cosine Similarity\n",
    "\n",
    "#### Sklearn's cosine_similarity() method calculates the L2-normalized dot product of two vectors. On the other hand, sklearn's linear_kernel() method calculates the dot product of two vectors directly (without normalization). Because the TF-IDF functionality in sklearn.feature_extraction.text (from which TfidfVectorizer() is imported) already produces L2-normalized vectors, both cosine_similarity() and linear_kernel() can be used to the same effect, linear_kernel being a bit faster since it does not recompute L2-normalization."
   ]
  },
  {
   "cell_type": "code",
   "execution_count": 95,
   "id": "f13c78d3",
   "metadata": {},
   "outputs": [
    {
     "name": "stdout",
     "output_type": "stream",
     "text": [
      "Matrix Shape: (27278, 27278) \n",
      "\n",
      "Using linear_kernel()\n",
      " [[1.         0.06569937 0.0108549  ... 0.00823828 0.         0.05529475]\n",
      " [0.06569937 1.         0.00102618 ... 0.00414804 0.         0.13284636]\n",
      " [0.0108549  0.00102618 1.         ... 0.         0.         0.        ]\n",
      " ...\n",
      " [0.00823828 0.00414804 0.         ... 1.         0.         0.09477059]\n",
      " [0.         0.         0.         ... 0.         1.         0.        ]\n",
      " [0.05529475 0.13284636 0.         ... 0.09477059 0.         1.        ]] \n",
      "\n",
      "\n"
     ]
    }
   ],
   "source": [
    "# Because TF-IDF scores are already normalized, linear_kernel can be applied directly instead of cosine similarity\n",
    "cosine_sim = linear_kernel(TFIDF_matrix, TFIDF_matrix)\n",
    "\n",
    "print('Matrix Shape:', cosine_sim.shape, '\\n')\n",
    "print('Using linear_kernel()\\n', cosine_sim, '\\n\\n')\n",
    "\n",
    "# For comparison, demonstrating resulting matrices are identical\n",
    "# cosine_sim_alt = cosine_similarity(TFIDF_matrix, TFIDF_matrix)\n",
    "# print('Using cosine_similarity()\\n', cosine_sim_alt)"
   ]
  },
  {
   "cell_type": "code",
   "execution_count": 96,
   "id": "54ab69b1",
   "metadata": {},
   "outputs": [
    {
     "name": "stdout",
     "output_type": "stream",
     "text": [
      "          0         1         2         3         4\n",
      "0  1.000000  0.065699  0.010855  0.004902  0.035365\n",
      "1  0.065699  1.000000  0.001026  0.063021  0.024147\n",
      "2  0.010855  0.001026  1.000000  0.027040  0.115535\n",
      "3  0.004902  0.063021  0.027040  1.000000  0.024689\n",
      "4  0.035365  0.024147  0.115535  0.024689  1.000000\n"
     ]
    }
   ],
   "source": [
    "cosine_sim_df = pd.DataFrame(cosine_sim)\n",
    "\n",
    "print(cosine_sim_df.iloc[0:5, 0:5])"
   ]
  },
  {
   "cell_type": "markdown",
   "id": "f10b38c7",
   "metadata": {},
   "source": [
    "## Get Recommendations"
   ]
  },
  {
   "cell_type": "code",
   "execution_count": 97,
   "id": "657b8203",
   "metadata": {},
   "outputs": [
    {
     "name": "stdout",
     "output_type": "stream",
     "text": [
      "title\n",
      "toy story (1995)                          0\n",
      "jumanji (1995)                            1\n",
      "grumpier old men (1995)                   2\n",
      "waiting to exhale (1995)                  3\n",
      "father of the bride part ii (1995)        4\n",
      "                                      ...  \n",
      "kein bund für's leben (2007)          27273\n",
      "feuer, eis & dosenbier (2002)         27274\n",
      "the pirates (2014)                    27275\n",
      "rentun ruusu (2001)                   27276\n",
      "innocence (2014)                      27277\n",
      "Length: 27278, dtype: int64\n"
     ]
    }
   ],
   "source": [
    "# Create Series for movie index lookup\n",
    "movie_indices = pd.Series(content.index, index=content['title'])\n",
    "print(movie_indices)"
   ]
  },
  {
   "cell_type": "code",
   "execution_count": 98,
   "id": "6a3d5894",
   "metadata": {},
   "outputs": [],
   "source": [
    "def get_recommendations(title, cosine_sim=cosine_sim):\n",
    "    # Look up by film index\n",
    "    title = title.lower()\n",
    "    film_id = movie_indices[title]\n",
    "    movies['title'] = movies['title'].str.title()\n",
    "    \n",
    "    # Get top 10 similarity scores\n",
    "    sim_scores = list(enumerate(cosine_sim[film_id]))\n",
    "    sim_scores = sorted(sim_scores, key=lambda x: x[1], reverse=True)\n",
    "    sim_scores = sim_scores[1:11]\n",
    "    \n",
    "    # Access recommended films\n",
    "    rec_indices = [i[0] for i in sim_scores]\n",
    "    return movies['title'].iloc[rec_indices]"
   ]
  },
  {
   "cell_type": "markdown",
   "id": "dc8a4397",
   "metadata": {},
   "source": [
    "## Recommendation Search"
   ]
  },
  {
   "cell_type": "code",
   "execution_count": 99,
   "id": "a82e0955",
   "metadata": {},
   "outputs": [
    {
     "data": {
      "text/plain": [
       "3027              Toy Story 2 (1999)\n",
       "2270            Bug'S Life, A (1998)\n",
       "4790           Monsters, Inc. (2001)\n",
       "5121                  Ice Age (2002)\n",
       "6271             Finding Nemo (2003)\n",
       "15401             Toy Story 3 (2010)\n",
       "8278         Incredibles, The (2004)\n",
       "11614             Ratatouille (2007)\n",
       "19186                 Tin Toy (1988)\n",
       "25462    The Legend Of Mor'Du (2012)\n",
       "Name: title, dtype: object"
      ]
     },
     "execution_count": 99,
     "metadata": {},
     "output_type": "execute_result"
    }
   ],
   "source": [
    "get_recommendations('Toy story (1995)')"
   ]
  },
  {
   "cell_type": "code",
   "execution_count": 100,
   "id": "6486ccd8",
   "metadata": {},
   "outputs": [
    {
     "data": {
      "text/plain": [
       "1643                  Flubber (1997)\n",
       "496            Mrs. Doubtfire (1993)\n",
       "8256           Final Cut, The (2004)\n",
       "752                      Jack (1996)\n",
       "1479             Fathers' Day (1997)\n",
       "3359    Good Morning, Vietnam (1987)\n",
       "2168                     Toys (1992)\n",
       "5431           One Hour Photo (2002)\n",
       "5168         Death To Smoochy (2002)\n",
       "2346              Patch Adams (1998)\n",
       "Name: title, dtype: object"
      ]
     },
     "execution_count": 100,
     "metadata": {},
     "output_type": "execute_result"
    }
   ],
   "source": [
    "get_recommendations('Jumanji (1995)')"
   ]
  },
  {
   "cell_type": "code",
   "execution_count": 101,
   "id": "3663712d",
   "metadata": {},
   "outputs": [
    {
     "data": {
      "text/plain": [
       "1643                  Flubber (1997)\n",
       "8256           Final Cut, The (2004)\n",
       "752                      Jack (1996)\n",
       "1479             Fathers' Day (1997)\n",
       "3359    Good Morning, Vietnam (1987)\n",
       "1                     Jumanji (1995)\n",
       "2168                     Toys (1992)\n",
       "5431           One Hour Photo (2002)\n",
       "5168         Death To Smoochy (2002)\n",
       "139             Birdcage, The (1996)\n",
       "Name: title, dtype: object"
      ]
     },
     "execution_count": 101,
     "metadata": {},
     "output_type": "execute_result"
    }
   ],
   "source": [
    "get_recommendations('Mrs. Doubtfire (1993)')"
   ]
  },
  {
   "cell_type": "code",
   "execution_count": 102,
   "id": "721344dc",
   "metadata": {},
   "outputs": [
    {
     "data": {
      "text/plain": [
       "2994                                  Sleepy Hollow (1999)\n",
       "2206                            Edward Scissorhands (1990)\n",
       "12321    Sweeney Todd: The Demon Barber Of Fleet Street...\n",
       "232                                         Ed Wood (1994)\n",
       "14937                           Alice In Wonderland (2010)\n",
       "10430                                  Corpse Bride (2005)\n",
       "18995                                  Dark Shadows (2012)\n",
       "653                       James And The Giant Peach (1996)\n",
       "547                 Nightmare Before Christmas, The (1993)\n",
       "6429     Pirates Of The Caribbean: The Curse Of The Bla...\n",
       "Name: title, dtype: object"
      ]
     },
     "execution_count": 102,
     "metadata": {},
     "output_type": "execute_result"
    }
   ],
   "source": [
    "get_recommendations('Charlie And The Chocolate Factory (2005)')"
   ]
  },
  {
   "cell_type": "code",
   "execution_count": null,
   "id": "07863cc7",
   "metadata": {},
   "outputs": [],
   "source": []
  }
 ],
 "metadata": {
  "kernelspec": {
   "display_name": "Python 3 (ipykernel)",
   "language": "python",
   "name": "python3"
  },
  "language_info": {
   "codemirror_mode": {
    "name": "ipython",
    "version": 3
   },
   "file_extension": ".py",
   "mimetype": "text/x-python",
   "name": "python",
   "nbconvert_exporter": "python",
   "pygments_lexer": "ipython3",
   "version": "3.9.12"
  }
 },
 "nbformat": 4,
 "nbformat_minor": 5
}
